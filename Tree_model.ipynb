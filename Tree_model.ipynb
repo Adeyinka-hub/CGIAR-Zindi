{
  "nbformat": 4,
  "nbformat_minor": 0,
  "metadata": {
    "colab": {
      "name": "Tree_model.ipynb",
      "provenance": [],
      "collapsed_sections": [],
      "authorship_tag": "ABX9TyMLbCoxZBYEWnNm6Zrxkabu",
      "include_colab_link": true
    },
    "kernelspec": {
      "name": "python3",
      "display_name": "Python 3"
    }
  },
  "cells": [
    {
      "cell_type": "markdown",
      "metadata": {
        "id": "view-in-github",
        "colab_type": "text"
      },
      "source": [
        "<a href=\"https://colab.research.google.com/github/anindabitm/CGIAR-Zindi/blob/master/Tree_model.ipynb\" target=\"_parent\"><img src=\"https://colab.research.google.com/assets/colab-badge.svg\" alt=\"Open In Colab\"/></a>"
      ]
    },
    {
      "cell_type": "code",
      "metadata": {
        "id": "3yZQjyjTSMAK",
        "outputId": "c119292d-5114-4ab2-c7fa-79b30b8ea0b7",
        "colab": {
          "base_uri": "https://localhost:8080/",
          "height": 34
        }
      },
      "source": [
        "from google.colab import drive\n",
        "drive.mount('/content/drive')"
      ],
      "execution_count": 1,
      "outputs": [
        {
          "output_type": "stream",
          "text": [
            "Mounted at /content/drive\n"
          ],
          "name": "stdout"
        }
      ]
    },
    {
      "cell_type": "code",
      "metadata": {
        "id": "kDR13v7VSysO"
      },
      "source": [
        "import os\n",
        "print(os.getcwd())\n",
        "!ls '/content/drive/My Drive/cgiar-wheat/'"
      ],
      "execution_count": null,
      "outputs": []
    },
    {
      "cell_type": "code",
      "metadata": {
        "id": "kHTLfkpNS1Q3"
      },
      "source": [
        "!cp '/content/drive/My Drive/cgiar-wheat/Images.zip' .\n",
        "!unzip -q Images.zip\n",
        "!rm Images.zip"
      ],
      "execution_count": 3,
      "outputs": []
    },
    {
      "cell_type": "code",
      "metadata": {
        "id": "JXoC6pk1S5uO"
      },
      "source": [
        "import pandas as pd\n",
        "import numpy as np\n",
        "from matplotlib import pyplot as plt\n",
        "%matplotlib inline\n",
        "from PIL import Image\n",
        "import torch \n",
        "import torch.nn as nn\n",
        "from PIL import Image"
      ],
      "execution_count": 3,
      "outputs": []
    },
    {
      "cell_type": "code",
      "metadata": {
        "id": "M6ys4qqjS-CH",
        "outputId": "f36b3316-808c-402e-a669-3c95b1bd04a3",
        "colab": {
          "base_uri": "https://localhost:8080/",
          "height": 204
        }
      },
      "source": [
        "train = pd.read_csv('/content/drive/My Drive/cgiar-wheat/Train.csv')\n",
        "train['images'] = train['UID'].apply(lambda x: x + \".jpeg\")\n",
        "train.head()"
      ],
      "execution_count": 53,
      "outputs": [
        {
          "output_type": "execute_result",
          "data": {
            "text/html": [
              "<div>\n",
              "<style scoped>\n",
              "    .dataframe tbody tr th:only-of-type {\n",
              "        vertical-align: middle;\n",
              "    }\n",
              "\n",
              "    .dataframe tbody tr th {\n",
              "        vertical-align: top;\n",
              "    }\n",
              "\n",
              "    .dataframe thead th {\n",
              "        text-align: right;\n",
              "    }\n",
              "</style>\n",
              "<table border=\"1\" class=\"dataframe\">\n",
              "  <thead>\n",
              "    <tr style=\"text-align: right;\">\n",
              "      <th></th>\n",
              "      <th>UID</th>\n",
              "      <th>growth_stage</th>\n",
              "      <th>label_quality</th>\n",
              "      <th>images</th>\n",
              "    </tr>\n",
              "  </thead>\n",
              "  <tbody>\n",
              "    <tr>\n",
              "      <th>0</th>\n",
              "      <td>nwuCTQKz</td>\n",
              "      <td>4</td>\n",
              "      <td>2</td>\n",
              "      <td>nwuCTQKz.jpeg</td>\n",
              "    </tr>\n",
              "    <tr>\n",
              "      <th>1</th>\n",
              "      <td>NVGUOzWu</td>\n",
              "      <td>1</td>\n",
              "      <td>1</td>\n",
              "      <td>NVGUOzWu.jpeg</td>\n",
              "    </tr>\n",
              "    <tr>\n",
              "      <th>2</th>\n",
              "      <td>1IYVvHwA</td>\n",
              "      <td>1</td>\n",
              "      <td>1</td>\n",
              "      <td>1IYVvHwA.jpeg</td>\n",
              "    </tr>\n",
              "    <tr>\n",
              "      <th>3</th>\n",
              "      <td>8OEdWwmU</td>\n",
              "      <td>1</td>\n",
              "      <td>1</td>\n",
              "      <td>8OEdWwmU.jpeg</td>\n",
              "    </tr>\n",
              "    <tr>\n",
              "      <th>4</th>\n",
              "      <td>oc5iO04j</td>\n",
              "      <td>1</td>\n",
              "      <td>1</td>\n",
              "      <td>oc5iO04j.jpeg</td>\n",
              "    </tr>\n",
              "  </tbody>\n",
              "</table>\n",
              "</div>"
            ],
            "text/plain": [
              "        UID  growth_stage  label_quality         images\n",
              "0  nwuCTQKz             4              2  nwuCTQKz.jpeg\n",
              "1  NVGUOzWu             1              1  NVGUOzWu.jpeg\n",
              "2  1IYVvHwA             1              1  1IYVvHwA.jpeg\n",
              "3  8OEdWwmU             1              1  8OEdWwmU.jpeg\n",
              "4  oc5iO04j             1              1  oc5iO04j.jpeg"
            ]
          },
          "metadata": {
            "tags": []
          },
          "execution_count": 53
        }
      ]
    },
    {
      "cell_type": "code",
      "metadata": {
        "id": "BRyG0__9UFIo",
        "outputId": "4b9c392e-7030-4418-bb74-66d5dfd31e22",
        "colab": {
          "base_uri": "https://localhost:8080/",
          "height": 34
        }
      },
      "source": [
        "train.shape"
      ],
      "execution_count": 54,
      "outputs": [
        {
          "output_type": "execute_result",
          "data": {
            "text/plain": [
              "(10695, 4)"
            ]
          },
          "metadata": {
            "tags": []
          },
          "execution_count": 54
        }
      ]
    },
    {
      "cell_type": "code",
      "metadata": {
        "id": "8oQ188y8Ypbb",
        "outputId": "7b8f21a2-bf3d-4bff-d21e-3c294e3c3b3a",
        "colab": {
          "base_uri": "https://localhost:8080/",
          "height": 204
        }
      },
      "source": [
        "test = pd.read_csv('/content/drive/My Drive/cgiar-wheat/SampleSubmission.csv')\n",
        "test['images'] = test['UID'].apply(lambda x: x + \".jpeg\")\n",
        "test.head()"
      ],
      "execution_count": 55,
      "outputs": [
        {
          "output_type": "execute_result",
          "data": {
            "text/html": [
              "<div>\n",
              "<style scoped>\n",
              "    .dataframe tbody tr th:only-of-type {\n",
              "        vertical-align: middle;\n",
              "    }\n",
              "\n",
              "    .dataframe tbody tr th {\n",
              "        vertical-align: top;\n",
              "    }\n",
              "\n",
              "    .dataframe thead th {\n",
              "        text-align: right;\n",
              "    }\n",
              "</style>\n",
              "<table border=\"1\" class=\"dataframe\">\n",
              "  <thead>\n",
              "    <tr style=\"text-align: right;\">\n",
              "      <th></th>\n",
              "      <th>UID</th>\n",
              "      <th>growth_stage</th>\n",
              "      <th>images</th>\n",
              "    </tr>\n",
              "  </thead>\n",
              "  <tbody>\n",
              "    <tr>\n",
              "      <th>0</th>\n",
              "      <td>F3LbWkZq</td>\n",
              "      <td>0</td>\n",
              "      <td>F3LbWkZq.jpeg</td>\n",
              "    </tr>\n",
              "    <tr>\n",
              "      <th>1</th>\n",
              "      <td>6P4wLVzI</td>\n",
              "      <td>0</td>\n",
              "      <td>6P4wLVzI.jpeg</td>\n",
              "    </tr>\n",
              "    <tr>\n",
              "      <th>2</th>\n",
              "      <td>Tn6HIrdS</td>\n",
              "      <td>0</td>\n",
              "      <td>Tn6HIrdS.jpeg</td>\n",
              "    </tr>\n",
              "    <tr>\n",
              "      <th>3</th>\n",
              "      <td>EYM5R1TK</td>\n",
              "      <td>0</td>\n",
              "      <td>EYM5R1TK.jpeg</td>\n",
              "    </tr>\n",
              "    <tr>\n",
              "      <th>4</th>\n",
              "      <td>fkcevlA0</td>\n",
              "      <td>0</td>\n",
              "      <td>fkcevlA0.jpeg</td>\n",
              "    </tr>\n",
              "  </tbody>\n",
              "</table>\n",
              "</div>"
            ],
            "text/plain": [
              "        UID  growth_stage         images\n",
              "0  F3LbWkZq             0  F3LbWkZq.jpeg\n",
              "1  6P4wLVzI             0  6P4wLVzI.jpeg\n",
              "2  Tn6HIrdS             0  Tn6HIrdS.jpeg\n",
              "3  EYM5R1TK             0  EYM5R1TK.jpeg\n",
              "4  fkcevlA0             0  fkcevlA0.jpeg"
            ]
          },
          "metadata": {
            "tags": []
          },
          "execution_count": 55
        }
      ]
    },
    {
      "cell_type": "code",
      "metadata": {
        "id": "VtoHwaM7WvFE",
        "outputId": "3c2a4ac6-d8d4-4aae-f28e-7b5b8d98a399",
        "colab": {
          "base_uri": "https://localhost:8080/",
          "height": 34
        }
      },
      "source": [
        "train_hiq = train.loc[train.label_quality==2,:].reset_index(drop=True)\n",
        "train_loq = train.loc[train.label_quality==1,:].reset_index(drop=True)\n",
        "train_hiq.shape,train_loq.shape"
      ],
      "execution_count": 56,
      "outputs": [
        {
          "output_type": "execute_result",
          "data": {
            "text/plain": [
              "((2856, 4), (7839, 4))"
            ]
          },
          "metadata": {
            "tags": []
          },
          "execution_count": 56
        }
      ]
    },
    {
      "cell_type": "code",
      "metadata": {
        "id": "Q3mTgeZUTPr4"
      },
      "source": [
        "img_arr1 = np.array([\n",
        "            np.array(((Image.open('Images/' + filename)).convert(\"RGB\")).resize((56, 56),resample=Image.BILINEAR))\n",
        "               for filename in train_hiq.images.values])\n",
        "\n",
        "img_arr2 = np.array([\n",
        "            np.array(((Image.open('Images/' + filename)).convert(\"RGB\")).resize((56, 56),resample=Image.BILINEAR))\n",
        "               for filename in train_loq.images.values])"
      ],
      "execution_count": 57,
      "outputs": []
    },
    {
      "cell_type": "code",
      "metadata": {
        "id": "Nq6u0LBuT_j0",
        "outputId": "efa34376-44de-4fc8-97f3-4ed020603131",
        "colab": {
          "base_uri": "https://localhost:8080/",
          "height": 68
        }
      },
      "source": [
        "print(img_arr2[:,:,:,0].reshape(7839,-1,).shape)\n",
        "print(img_arr2[:,:,:,1].reshape(7839,-1,).shape)\n",
        "print(img_arr2[:,:,:,2].reshape(7839,-1,).shape)"
      ],
      "execution_count": 58,
      "outputs": [
        {
          "output_type": "stream",
          "text": [
            "(7839, 3136)\n",
            "(7839, 3136)\n",
            "(7839, 3136)\n"
          ],
          "name": "stdout"
        }
      ]
    },
    {
      "cell_type": "code",
      "metadata": {
        "id": "SNV8akjtUyky"
      },
      "source": [
        "xtrain = np.hstack((img_arr1[:,:,:,0].reshape(2856,-1,),img_arr1[:,:,:,1].reshape(2856,-1,),img_arr1[:,:,:,2].reshape(2856,-1,)))\n",
        "xtest = np.hstack((img_arr2[:,:,:,0].reshape(7839,-1,),img_arr2[:,:,:,1].reshape(7839,-1,),img_arr2[:,:,:,2].reshape(7839,-1,)))"
      ],
      "execution_count": 59,
      "outputs": []
    },
    {
      "cell_type": "code",
      "metadata": {
        "id": "bVYwYnUfV34X",
        "outputId": "f0ce9a63-8924-4c3f-abcc-212786b66b32",
        "colab": {
          "base_uri": "https://localhost:8080/",
          "height": 34
        }
      },
      "source": [
        "xtrain.shape,xtest.shape"
      ],
      "execution_count": 60,
      "outputs": [
        {
          "output_type": "execute_result",
          "data": {
            "text/plain": [
              "((2856, 9408), (7839, 9408))"
            ]
          },
          "metadata": {
            "tags": []
          },
          "execution_count": 60
        }
      ]
    },
    {
      "cell_type": "code",
      "metadata": {
        "id": "71_dsBX1VXu7"
      },
      "source": [
        "ytrain = train_hiq.growth_stage.values"
      ],
      "execution_count": 61,
      "outputs": []
    },
    {
      "cell_type": "code",
      "metadata": {
        "id": "j4BS0b3kXNEQ",
        "outputId": "f62cd36c-93de-4080-c473-1e73609110cc",
        "colab": {
          "base_uri": "https://localhost:8080/",
          "height": 34
        }
      },
      "source": [
        "ytrain.shape"
      ],
      "execution_count": 62,
      "outputs": [
        {
          "output_type": "execute_result",
          "data": {
            "text/plain": [
              "(2856,)"
            ]
          },
          "metadata": {
            "tags": []
          },
          "execution_count": 62
        }
      ]
    },
    {
      "cell_type": "code",
      "metadata": {
        "id": "I6px1kF7Vfgx",
        "outputId": "e6f29296-c7b0-4589-ff4d-fb4ce5245944",
        "colab": {
          "base_uri": "https://localhost:8080/",
          "height": 578
        }
      },
      "source": [
        "import lightgbm as lgb\n",
        "from sklearn.model_selection import cross_val_score\n",
        "from sklearn.model_selection import StratifiedKFold\n",
        "skf = StratifiedKFold(n_splits=3,shuffle=True,random_state=42)\n",
        "fold = 0\n",
        "preds = np.zeros(shape=(7839,))\n",
        "for train_index, test_index in skf.split(xtrain, ytrain):\n",
        "    fold+= 1\n",
        "    print('In fold',fold)\n",
        "    print(\"TRAIN LENGTH:\", len(train_index), \"VALIDATION LENGTH:\", len(test_index))\n",
        "    train_x = xtrain[train_index]\n",
        "    train_y = ytrain[train_index]\n",
        "    valid_x = xtrain[test_index]\n",
        "    valid_y = ytrain[test_index]\n",
        "    model = lgb.LGBMRegressor(n_estimators=300)\n",
        "    model.fit(train_x,train_y,eval_set=(valid_x,valid_y),early_stopping_rounds=10,verbose=20)\n",
        "    preds += model.predict(xtest)\n",
        "\n",
        "preds = preds/3"
      ],
      "execution_count": 64,
      "outputs": [
        {
          "output_type": "stream",
          "text": [
            "In fold 1\n",
            "TRAIN LENGTH: 1904 VALIDATION LENGTH: 952\n",
            "Training until validation scores don't improve for 10 rounds.\n",
            "[20]\tvalid_0's l2: 1.15011\n",
            "[40]\tvalid_0's l2: 1.07695\n",
            "[60]\tvalid_0's l2: 1.05897\n",
            "[80]\tvalid_0's l2: 1.04998\n",
            "[100]\tvalid_0's l2: 1.04636\n",
            "[120]\tvalid_0's l2: 1.04342\n",
            "[140]\tvalid_0's l2: 1.04237\n",
            "[160]\tvalid_0's l2: 1.04179\n",
            "[180]\tvalid_0's l2: 1.04139\n",
            "Early stopping, best iteration is:\n",
            "[177]\tvalid_0's l2: 1.04132\n",
            "In fold 2\n",
            "TRAIN LENGTH: 1904 VALIDATION LENGTH: 952\n",
            "Training until validation scores don't improve for 10 rounds.\n",
            "[20]\tvalid_0's l2: 1.08873\n",
            "[40]\tvalid_0's l2: 1.01778\n",
            "[60]\tvalid_0's l2: 1.00445\n",
            "[80]\tvalid_0's l2: 0.994747\n",
            "Early stopping, best iteration is:\n",
            "[83]\tvalid_0's l2: 0.993855\n",
            "In fold 3\n",
            "TRAIN LENGTH: 1904 VALIDATION LENGTH: 952\n",
            "Training until validation scores don't improve for 10 rounds.\n",
            "[20]\tvalid_0's l2: 1.09932\n",
            "[40]\tvalid_0's l2: 1.0025\n",
            "[60]\tvalid_0's l2: 0.976977\n",
            "[80]\tvalid_0's l2: 0.966065\n",
            "[100]\tvalid_0's l2: 0.959579\n",
            "Early stopping, best iteration is:\n",
            "[108]\tvalid_0's l2: 0.958571\n"
          ],
          "name": "stdout"
        }
      ]
    },
    {
      "cell_type": "code",
      "metadata": {
        "id": "4d7-Hh8ojgMi",
        "outputId": "b3ff6a56-4197-4574-9904-4eba8675d5f1",
        "colab": {
          "base_uri": "https://localhost:8080/",
          "height": 204
        }
      },
      "source": [
        "train_loq['growth_stage'] = preds\n",
        "train_loq.head()"
      ],
      "execution_count": 65,
      "outputs": [
        {
          "output_type": "execute_result",
          "data": {
            "text/html": [
              "<div>\n",
              "<style scoped>\n",
              "    .dataframe tbody tr th:only-of-type {\n",
              "        vertical-align: middle;\n",
              "    }\n",
              "\n",
              "    .dataframe tbody tr th {\n",
              "        vertical-align: top;\n",
              "    }\n",
              "\n",
              "    .dataframe thead th {\n",
              "        text-align: right;\n",
              "    }\n",
              "</style>\n",
              "<table border=\"1\" class=\"dataframe\">\n",
              "  <thead>\n",
              "    <tr style=\"text-align: right;\">\n",
              "      <th></th>\n",
              "      <th>UID</th>\n",
              "      <th>growth_stage</th>\n",
              "      <th>label_quality</th>\n",
              "      <th>images</th>\n",
              "    </tr>\n",
              "  </thead>\n",
              "  <tbody>\n",
              "    <tr>\n",
              "      <th>0</th>\n",
              "      <td>NVGUOzWu</td>\n",
              "      <td>6.409744</td>\n",
              "      <td>1</td>\n",
              "      <td>NVGUOzWu.jpeg</td>\n",
              "    </tr>\n",
              "    <tr>\n",
              "      <th>1</th>\n",
              "      <td>1IYVvHwA</td>\n",
              "      <td>3.022923</td>\n",
              "      <td>1</td>\n",
              "      <td>1IYVvHwA.jpeg</td>\n",
              "    </tr>\n",
              "    <tr>\n",
              "      <th>2</th>\n",
              "      <td>8OEdWwmU</td>\n",
              "      <td>3.526897</td>\n",
              "      <td>1</td>\n",
              "      <td>8OEdWwmU.jpeg</td>\n",
              "    </tr>\n",
              "    <tr>\n",
              "      <th>3</th>\n",
              "      <td>oc5iO04j</td>\n",
              "      <td>4.855008</td>\n",
              "      <td>1</td>\n",
              "      <td>oc5iO04j.jpeg</td>\n",
              "    </tr>\n",
              "    <tr>\n",
              "      <th>4</th>\n",
              "      <td>A60rOyP9</td>\n",
              "      <td>2.884030</td>\n",
              "      <td>1</td>\n",
              "      <td>A60rOyP9.jpeg</td>\n",
              "    </tr>\n",
              "  </tbody>\n",
              "</table>\n",
              "</div>"
            ],
            "text/plain": [
              "        UID  growth_stage  label_quality         images\n",
              "0  NVGUOzWu      6.409744              1  NVGUOzWu.jpeg\n",
              "1  1IYVvHwA      3.022923              1  1IYVvHwA.jpeg\n",
              "2  8OEdWwmU      3.526897              1  8OEdWwmU.jpeg\n",
              "3  oc5iO04j      4.855008              1  oc5iO04j.jpeg\n",
              "4  A60rOyP9      2.884030              1  A60rOyP9.jpeg"
            ]
          },
          "metadata": {
            "tags": []
          },
          "execution_count": 65
        }
      ]
    },
    {
      "cell_type": "code",
      "metadata": {
        "id": "O2um4yd7jvmw",
        "outputId": "1b1ccf85-ca1a-4df5-c546-e77ffba602f6",
        "colab": {
          "base_uri": "https://localhost:8080/",
          "height": 34
        }
      },
      "source": [
        "train = pd.concat([train_hiq,train_loq]).reset_index(drop=True)\n",
        "train = train.sample(frac=1).reset_index(drop=True)\n",
        "train.shape"
      ],
      "execution_count": 66,
      "outputs": [
        {
          "output_type": "execute_result",
          "data": {
            "text/plain": [
              "(10695, 4)"
            ]
          },
          "metadata": {
            "tags": []
          },
          "execution_count": 66
        }
      ]
    },
    {
      "cell_type": "code",
      "metadata": {
        "id": "vx5AvI1qkTya"
      },
      "source": [
        "img_train = np.array([\n",
        "            np.array(((Image.open('Images/' + filename)).convert(\"RGB\")).resize((56, 56),resample=Image.BILINEAR))\n",
        "               for filename in train.images.values])\n",
        "\n",
        "img_test = np.array([\n",
        "            np.array(((Image.open('Images/' + filename)).convert(\"RGB\")).resize((56, 56),resample=Image.BILINEAR))\n",
        "               for filename in test.images.values])"
      ],
      "execution_count": 67,
      "outputs": []
    },
    {
      "cell_type": "code",
      "metadata": {
        "id": "V_98DoAokpUh",
        "outputId": "441b3d9b-b747-439c-c08d-829c726714df",
        "colab": {
          "base_uri": "https://localhost:8080/",
          "height": 34
        }
      },
      "source": [
        "test.shape"
      ],
      "execution_count": 68,
      "outputs": [
        {
          "output_type": "execute_result",
          "data": {
            "text/plain": [
              "(3558, 3)"
            ]
          },
          "metadata": {
            "tags": []
          },
          "execution_count": 68
        }
      ]
    },
    {
      "cell_type": "code",
      "metadata": {
        "id": "9934iUbCkfEY",
        "outputId": "12026e71-d678-41aa-f10d-6e445a11b264",
        "colab": {
          "base_uri": "https://localhost:8080/",
          "height": 34
        }
      },
      "source": [
        "xtrain = np.hstack((img_train[:,:,:,0].reshape(10695,-1,),img_train[:,:,:,1].reshape(10695,-1,),img_train[:,:,:,2].reshape(10695,-1,)))\n",
        "xtest = np.hstack((img_test[:,:,:,0].reshape(3558,-1,),img_test[:,:,:,1].reshape(3558,-1,),img_test[:,:,:,2].reshape(3558,-1,)))\n",
        "ytrain = train['growth_stage'].values\n",
        "xtrain.shape,ytrain.shape,xtest.shape"
      ],
      "execution_count": 69,
      "outputs": [
        {
          "output_type": "execute_result",
          "data": {
            "text/plain": [
              "((10695, 9408), (10695,), (3558, 9408))"
            ]
          },
          "metadata": {
            "tags": []
          },
          "execution_count": 69
        }
      ]
    },
    {
      "cell_type": "code",
      "metadata": {
        "id": "d3tKCy2wlA48",
        "outputId": "fdadcc0b-0c09-42bb-d0e2-da611d840149",
        "colab": {
          "base_uri": "https://localhost:8080/",
          "height": 1000
        }
      },
      "source": [
        "import lightgbm as lgb\n",
        "from sklearn.model_selection import cross_val_score\n",
        "from sklearn.model_selection import KFold,StratifiedKFold\n",
        "kf = KFold(n_splits=5,shuffle=True,random_state=42)\n",
        "fold = 0\n",
        "preds = np.zeros(shape=(3558,))\n",
        "for train_index, test_index in kf.split(xtrain):\n",
        "    fold+= 1\n",
        "    print('In fold',fold)\n",
        "    print(\"TRAIN LENGTH:\", len(train_index), \"VALIDATION LENGTH:\", len(test_index))\n",
        "    train_x = xtrain[train_index]\n",
        "    train_y = ytrain[train_index]\n",
        "    valid_x = xtrain[test_index]\n",
        "    valid_y = ytrain[test_index]\n",
        "    model = lgb.LGBMRegressor(n_estimators=300)\n",
        "    model.fit(train_x,train_y,eval_set=(valid_x,valid_y),early_stopping_rounds=10,verbose=20)\n",
        "    preds += model.predict(xtest)\n",
        "\n",
        "preds = preds/5"
      ],
      "execution_count": 70,
      "outputs": [
        {
          "output_type": "stream",
          "text": [
            "In fold 1\n",
            "TRAIN LENGTH: 8556 VALIDATION LENGTH: 2139\n",
            "Training until validation scores don't improve for 10 rounds.\n",
            "[20]\tvalid_0's l2: 0.372256\n",
            "[40]\tvalid_0's l2: 0.315017\n",
            "[60]\tvalid_0's l2: 0.293943\n",
            "[80]\tvalid_0's l2: 0.284506\n",
            "[100]\tvalid_0's l2: 0.278931\n",
            "[120]\tvalid_0's l2: 0.275702\n",
            "[140]\tvalid_0's l2: 0.274444\n",
            "[160]\tvalid_0's l2: 0.272872\n",
            "[180]\tvalid_0's l2: 0.271235\n",
            "[200]\tvalid_0's l2: 0.269708\n",
            "[220]\tvalid_0's l2: 0.269215\n",
            "[240]\tvalid_0's l2: 0.268545\n",
            "[260]\tvalid_0's l2: 0.268277\n",
            "[280]\tvalid_0's l2: 0.267857\n",
            "[300]\tvalid_0's l2: 0.267247\n",
            "Did not meet early stopping. Best iteration is:\n",
            "[300]\tvalid_0's l2: 0.267247\n",
            "In fold 2\n",
            "TRAIN LENGTH: 8556 VALIDATION LENGTH: 2139\n",
            "Training until validation scores don't improve for 10 rounds.\n",
            "[20]\tvalid_0's l2: 0.367935\n",
            "[40]\tvalid_0's l2: 0.303894\n",
            "[60]\tvalid_0's l2: 0.283775\n",
            "[80]\tvalid_0's l2: 0.275875\n",
            "[100]\tvalid_0's l2: 0.270303\n",
            "[120]\tvalid_0's l2: 0.267863\n",
            "[140]\tvalid_0's l2: 0.265545\n",
            "[160]\tvalid_0's l2: 0.263852\n",
            "[180]\tvalid_0's l2: 0.263053\n",
            "[200]\tvalid_0's l2: 0.262189\n",
            "[220]\tvalid_0's l2: 0.261411\n",
            "[240]\tvalid_0's l2: 0.260683\n",
            "[260]\tvalid_0's l2: 0.260354\n",
            "[280]\tvalid_0's l2: 0.259866\n",
            "[300]\tvalid_0's l2: 0.259494\n",
            "Did not meet early stopping. Best iteration is:\n",
            "[300]\tvalid_0's l2: 0.259494\n",
            "In fold 3\n",
            "TRAIN LENGTH: 8556 VALIDATION LENGTH: 2139\n",
            "Training until validation scores don't improve for 10 rounds.\n",
            "[20]\tvalid_0's l2: 0.393489\n",
            "[40]\tvalid_0's l2: 0.330416\n",
            "[60]\tvalid_0's l2: 0.309429\n",
            "[80]\tvalid_0's l2: 0.300169\n",
            "[100]\tvalid_0's l2: 0.293002\n",
            "[120]\tvalid_0's l2: 0.288473\n",
            "[140]\tvalid_0's l2: 0.285988\n",
            "[160]\tvalid_0's l2: 0.283419\n",
            "[180]\tvalid_0's l2: 0.281073\n",
            "[200]\tvalid_0's l2: 0.2804\n",
            "[220]\tvalid_0's l2: 0.279663\n",
            "[240]\tvalid_0's l2: 0.278675\n",
            "[260]\tvalid_0's l2: 0.277988\n",
            "[280]\tvalid_0's l2: 0.277672\n",
            "[300]\tvalid_0's l2: 0.277274\n",
            "Did not meet early stopping. Best iteration is:\n",
            "[300]\tvalid_0's l2: 0.277274\n",
            "In fold 4\n",
            "TRAIN LENGTH: 8556 VALIDATION LENGTH: 2139\n",
            "Training until validation scores don't improve for 10 rounds.\n",
            "[20]\tvalid_0's l2: 0.375906\n",
            "[40]\tvalid_0's l2: 0.311706\n",
            "[60]\tvalid_0's l2: 0.293626\n",
            "[80]\tvalid_0's l2: 0.287162\n",
            "[100]\tvalid_0's l2: 0.281899\n",
            "[120]\tvalid_0's l2: 0.27777\n",
            "[140]\tvalid_0's l2: 0.2753\n",
            "[160]\tvalid_0's l2: 0.272966\n",
            "[180]\tvalid_0's l2: 0.272365\n",
            "[200]\tvalid_0's l2: 0.272121\n",
            "[220]\tvalid_0's l2: 0.271339\n",
            "[240]\tvalid_0's l2: 0.270612\n",
            "Early stopping, best iteration is:\n",
            "[241]\tvalid_0's l2: 0.270563\n",
            "In fold 5\n",
            "TRAIN LENGTH: 8556 VALIDATION LENGTH: 2139\n",
            "Training until validation scores don't improve for 10 rounds.\n",
            "[20]\tvalid_0's l2: 0.381119\n",
            "[40]\tvalid_0's l2: 0.319455\n",
            "[60]\tvalid_0's l2: 0.300197\n",
            "[80]\tvalid_0's l2: 0.290236\n",
            "[100]\tvalid_0's l2: 0.284565\n",
            "[120]\tvalid_0's l2: 0.280714\n",
            "[140]\tvalid_0's l2: 0.277702\n",
            "[160]\tvalid_0's l2: 0.275\n",
            "[180]\tvalid_0's l2: 0.273553\n",
            "[200]\tvalid_0's l2: 0.272506\n",
            "[220]\tvalid_0's l2: 0.272064\n",
            "[240]\tvalid_0's l2: 0.271243\n",
            "[260]\tvalid_0's l2: 0.270422\n",
            "[280]\tvalid_0's l2: 0.269865\n",
            "[300]\tvalid_0's l2: 0.269258\n",
            "Did not meet early stopping. Best iteration is:\n",
            "[300]\tvalid_0's l2: 0.269258\n"
          ],
          "name": "stdout"
        }
      ]
    },
    {
      "cell_type": "code",
      "metadata": {
        "id": "uoeZbNcUpvlR"
      },
      "source": [
        "test['growth_stage'] = preds\n",
        "test[['UID','growth_stage']].to_csv('/content/drive/My Drive/cgiar-wheat/mlmodel.csv',index=False)"
      ],
      "execution_count": 71,
      "outputs": []
    }
  ]
}